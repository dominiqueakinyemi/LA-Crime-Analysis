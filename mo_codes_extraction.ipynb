{
 "cells": [
  {
   "cell_type": "markdown",
   "id": "f38a716b",
   "metadata": {},
   "source": [
    "PDF Text Extraction of LAPD M.O. Codes"
   ]
  },
  {
   "cell_type": "markdown",
   "id": "14a72f4c",
   "metadata": {},
   "source": [
    "1. Installed necessary libraries."
   ]
  },
  {
   "cell_type": "code",
   "execution_count": 4,
   "id": "8226cbb1-28fe-4e00-8533-15bedd899b68",
   "metadata": {},
   "outputs": [],
   "source": [
    "import pdfplumber\n",
    "import pandas as pd"
   ]
  },
  {
   "cell_type": "markdown",
   "id": "528736ba",
   "metadata": {},
   "source": [
    "2. Opened PDF with pdfplumber."
   ]
  },
  {
   "cell_type": "code",
   "execution_count": 8,
   "id": "07af89e6-925d-4884-9237-33cccb75723b",
   "metadata": {},
   "outputs": [],
   "source": [
    "with pdfplumber.open(\"/Users/dominiqueakinyemi/Desktop/mo_codes.pdf\") as pdf:\n",
    "    all_text = \"\"\n",
    "\n",
    "    for page in pdf.pages:\n",
    "        all_text += page.extract_text()"
   ]
  },
  {
   "cell_type": "markdown",
   "id": "1dc411e9",
   "metadata": {},
   "source": [
    "3. Reviewed import results."
   ]
  },
  {
   "cell_type": "code",
   "execution_count": 10,
   "id": "19d2b8e8-58df-446a-ac53-72e6b9a3a9d2",
   "metadata": {},
   "outputs": [
    {
     "name": "stdout",
     "output_type": "stream",
     "text": [
      "REV: 07/19\n",
      "MO CODES\n",
      "NUMERICAL\n",
      "0100 Suspect Impersonate\n",
      "0101 Aid victim\n",
      "0102 Blind\n",
      "0103 Physically disabled\n",
      "0104 Customer\n",
      "0105 Delivery\n",
      "0106 Doctor\n",
      "0107 God\n",
      "0108 Infirm\n",
      "0109 Inspector\n",
      "0110 Involved in traffic/accident\n",
      "0112 Police\n",
      "0113 Renting\n",
      "0114 Repair Person\n",
      "0115 Returning stolen property\n",
      "0116 Satan\n",
      "0117 Salesman\n",
      "0118 Seeking someone\n",
      "0119 Sent by owner\n",
      "0120 Social Security/Medicare\n",
      "0121 DWP/Gas Company/Utility worker\n",
      "0122 Contractor\n",
      "0123 Gardener/Tree Trimmer\n",
      "0200 Suspect wore disguise\n",
      "0201 Bag\n",
      "0202 Cap/hat\n",
      "0203 Cloth (with eyeholes)\n",
      "0204 Clothes of opposite sex\n",
      "0205 Earring\n",
      "0206 Gloves\n",
      "0207 Handkerchief\n",
      "0208 Halloween mask\n",
      "0209 Mask\n",
      "0210 Make up (males only)\n",
      "0211 Shoes\n",
      "0212 Nude/partly nude\n",
      "0213 Ski mask\n",
      "0214 Stocking\n",
      "0215 Unusual clothes\n",
      "0216 Suspect wore hood/hoodie\n",
      "0217 Uniform\n",
      "0218 Wig\n",
      "0219 Mustache-Fake\n",
      "0220 Suspect wore motorcycle helmet\n",
      "1 of 19REV: 07/19\n",
      "MO CODES\n",
      "NUMERICAL\n",
      "0301 Escaped on (used) transit train\n",
      "0302 Aimed gun\n",
      "0303 Ambushed\n",
      "0304 Ate/drank on premises\n",
      "0305 Attack\n"
     ]
    }
   ],
   "source": [
    "print(all_text[:1000])"
   ]
  },
  {
   "cell_type": "markdown",
   "id": "09789278",
   "metadata": {},
   "source": [
    "4. Cleaned text and converted to DF."
   ]
  },
  {
   "cell_type": "code",
   "execution_count": 16,
   "id": "e12c85ba-c56f-4c58-8e64-cf14d3f5be45",
   "metadata": {},
   "outputs": [
    {
     "name": "stdout",
     "output_type": "stream",
     "text": [
      "  mo_code          description\n",
      "0    0100  Suspect Impersonate\n",
      "1    0101           Aid victim\n",
      "2    0102                Blind\n",
      "3    0103  Physically disabled\n",
      "4    0104             Customer\n"
     ]
    }
   ],
   "source": [
    "lines = all_text.split(\"\\n\")\n",
    "data = []\n",
    "for line in lines:\n",
    "    if line.strip().startswith(\"REV\") or line.strip().startswith(\"MO CODES\"):\n",
    "        continue\n",
    "    parts = line.split(\" \", 1)  # Split into two parts: code and description\n",
    "    if len(parts) == 2:  # Ensure it's a valid line with both code and description\n",
    "        mo_code, description = parts\n",
    "        data.append([mo_code, description])\n",
    "\n",
    "mo_codes = pd.DataFrame(data, columns=[\"mo_code\", \"description\"])\n",
    "print(mo_codes.head())"
   ]
  },
  {
   "cell_type": "markdown",
   "id": "d9e5ec1d",
   "metadata": {},
   "source": [
    "5. Validated MO Codes to remove error values."
   ]
  },
  {
   "cell_type": "code",
   "execution_count": 20,
   "id": "55f39481-4cd1-497a-972a-e84b514f23d1",
   "metadata": {},
   "outputs": [
    {
     "name": "stdout",
     "output_type": "stream",
     "text": [
      "  mo_code          description\n",
      "0    0100  Suspect Impersonate\n",
      "1    0101           Aid victim\n",
      "2    0102                Blind\n",
      "3    0103  Physically disabled\n",
      "4    0104             Customer\n"
     ]
    }
   ],
   "source": [
    "def is_valid_mo_code(code):\n",
    "    return code.isdigit() and len(code) == 4\n",
    "\n",
    "mo_codes = mo_codes[mo_codes['mo_code'].apply(is_valid_mo_code)]\n",
    "print(mo_codes.head())"
   ]
  },
  {
   "cell_type": "markdown",
   "id": "9c907177",
   "metadata": {},
   "source": [
    "6. Saved MO Codes as CSV file."
   ]
  },
  {
   "cell_type": "code",
   "execution_count": null,
   "id": "06344b35-cfaa-4da7-94de-5ae2fd7a3792",
   "metadata": {},
   "outputs": [
    {
     "name": "stdout",
     "output_type": "stream",
     "text": [
      "    mo_code                  description\n",
      "0      0100          Suspect Impersonate\n",
      "1      0101                   Aid victim\n",
      "2      0102                        Blind\n",
      "3      0103          Physically disabled\n",
      "4      0104                     Customer\n",
      "..      ...                          ...\n",
      "845    4021                T/C - Topanga\n",
      "846    4024  T/C - Central Traffic (CTD)\n",
      "847    4025    T/C - South Traffic (STD)\n",
      "848    4026   T/C - Valley Traffic (VTD)\n",
      "849    4027     T/C - West Traffic (WTD)\n",
      "\n",
      "[824 rows x 2 columns]\n"
     ]
    }
   ],
   "source": [
    "mo_codes.to_csv(\"mo_codes.csv\", index=False)"
   ]
  },
  {
   "cell_type": "code",
   "execution_count": null,
   "id": "9960b0fd-8e06-4423-a5c1-d7cb3026d19f",
   "metadata": {},
   "outputs": [],
   "source": [
    "7. Imported to MySQL using LOAD DATA INFILE."
   ]
  }
 ],
 "metadata": {
  "kernelspec": {
   "display_name": "Python 3 (ipykernel)",
   "language": "python",
   "name": "python3"
  },
  "language_info": {
   "codemirror_mode": {
    "name": "ipython",
    "version": 3
   },
   "file_extension": ".py",
   "mimetype": "text/x-python",
   "name": "python",
   "nbconvert_exporter": "python",
   "pygments_lexer": "ipython3",
   "version": "3.12.4"
  }
 },
 "nbformat": 4,
 "nbformat_minor": 5
}
